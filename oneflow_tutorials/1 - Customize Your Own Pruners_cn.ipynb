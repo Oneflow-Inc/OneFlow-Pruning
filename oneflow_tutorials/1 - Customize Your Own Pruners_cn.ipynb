{
 "cells": [
  {
   "attachments": {},
   "cell_type": "markdown",
   "id": "d222740b",
   "metadata": {},
   "source": [
    "# 自定义您自己的剪枝器\n",
    "\n",
    "Torch-pruning是一种可扩展的工具，使您能够使用自定义的重要性标准和剪枝方案创建自己的剪枝器。例如，您可以使用torch-pruning实现[Slimming pruner](https://arxiv.org/abs/1708.06519)，该剪枝器利用批量归一化（BN）中的缩放参数来识别和删除不重要的通道。\n",
    "\n"
   ]
  },
  {
   "cell_type": "code",
   "execution_count": 1,
   "id": "ba962543",
   "metadata": {},
   "outputs": [],
   "source": [
    "import warnings\n",
    "warnings.filterwarnings('ignore')\n",
    "import sys, os\n",
    "sys.path.append(os.path.abspath(\"../\"))\n",
    "\n",
    "import torch\n",
    "import torch.nn as nn\n",
    "from torchvision.models import resnet18\n",
    "import torch_pruning as tp"
   ]
  },
  {
   "attachments": {},
   "cell_type": "markdown",
   "id": "0a9d8d32",
   "metadata": {},
   "source": [
    "### 1. Pruner Definition\n",
    "\n",
    "Slimming Pruner利用批归一化（BN）层中的缩放因子来确定不同通道的重要性得分。该技术遵循“训练-剪枝-微调”范式，其中包括对原始模型进行稀疏训练。在Torch-Pruning中，基类“tp.pruner.MetaPruner”提供了一个方便的“.regularize(model)”方法，用于稀疏训练。我们的第一个任务是实现这样的接口，以便有效地正则化BN参数。\n",
    "\n"
   ]
  },
  {
   "cell_type": "code",
   "execution_count": 2,
   "id": "20ccf46e",
   "metadata": {},
   "outputs": [],
   "source": [
    "class MySlimmingPruner(tp.pruner.MetaPruner):\n",
    "    def regularize(self, model, reg):\n",
    "        for m in model.modules():\n",
    "            if isinstance(m, (nn.BatchNorm1d, nn.BatchNorm2d, nn.BatchNorm3d)) and m.affine==True:\n",
    "                m.weight.grad.data.add_(reg*torch.sign(m.weight.data)) # Lasso for sparsity"
   ]
  },
  {
   "attachments": {},
   "cell_type": "markdown",
   "id": "07dcfd75",
   "metadata": {},
   "source": [
    "\n",
    "### 2. Importance function\n",
    "现在，我们需要一个新的重要性准则来进行削减，该准则比较BN中的缩放参数的大小。在这项工作中，重要性准则是一个可调用的函数或对象，它接受一组“tp.PruningGroup”作为输入。 “tp.PruningGroup”记录所有耦合层以及它们的剪枝索引。我们可以扫描该组来设计自己的重要性函数，如下所示：\n",
    "\n"
   ]
  },
  {
   "cell_type": "code",
   "execution_count": 4,
   "id": "9f61c5aa",
   "metadata": {},
   "outputs": [],
   "source": [
    "class MySlimmingImportance(tp.importance.Importance):\n",
    "    def __call__(self, group, **kwargs):\n",
    "        #note that we have multiple BNs in a group, \n",
    "        # we store layer-wise scores in a list and then reduce them to get the final results\n",
    "        group_imp = [] # (num_bns, num_channels) \n",
    "        # 1. 遍历group以估计重要性\n",
    "        for dep, idxs in group:\n",
    "            layer = dep.target.module # 获取目标模型\n",
    "            prune_fn = dep.handler    # 获取目标模型的剪枝函数，在本例中未使用\n",
    "            if isinstance(layer, (nn.BatchNorm1d, nn.BatchNorm2d, nn.BatchNorm3d)) and layer.affine:\n",
    "                local_imp = torch.abs(layer.weight.data)\n",
    "                group_imp.append(local_imp)\n",
    "        if len(group_imp)==0: return None # 如果组中不包含BN层，则返回None\n",
    "        # 2. 将组重要性减少到1-D分数向量。这里我们使用跨层的平均分数。\n",
    "        group_imp = torch.stack(group_imp, dim=0).mean(dim=0) \n",
    "        return group_imp # (num_channels, )\n",
    "\n",
    "# 您可以实现任何重要性函数，只要它将组转换为1-D分数向量。\n",
    "\n",
    "# 以下类是返回随机分数向量的重要性函数的示例。\n",
    "class RandomImportance(tp.importance.Importance):\n",
    "    @torch.no_grad()\n",
    "    def __call__(self, group, **kwargs):\n",
    "        _, idxs = group[0]\n",
    "        return torch.rand(len(idxs)) # 返回与idxs长度相同的随机分数向量。\n"
   ]
  },
  {
   "attachments": {},
   "cell_type": "markdown",
   "id": "e7e1e073",
   "metadata": {},
   "source": [
    "### 3. Pruning\n",
    "现在让我们利用定制的修剪器来精简resnet-18模型"
   ]
  },
  {
   "cell_type": "code",
   "execution_count": 5,
   "id": "762220da",
   "metadata": {},
   "outputs": [],
   "source": [
    "model = resnet18(pretrained=True)\n",
    "example_inputs = torch.randn(1, 3, 224, 224)"
   ]
  },
  {
   "cell_type": "code",
   "execution_count": 7,
   "id": "b68e113a",
   "metadata": {},
   "outputs": [],
   "source": [
    "# 0. importance criterion \n",
    "imp = MySlimmingImportance()\n",
    "\n",
    "# 1. ignore some layers that should not be pruned, e.g., the final classifier layer.\n",
    "ignored_layers = []\n",
    "for m in model.modules():\n",
    "    if isinstance(m, torch.nn.Linear) and m.out_features == 1000:\n",
    "        ignored_layers.append(m) # DO NOT prune the final classifier!\n",
    "\n",
    "# 2. Pruner initialization\n",
    "iterative_steps = 5 # You can prune your model to the target sparsity iteratively.\n",
    "pruner = MySlimmingPruner(\n",
    "    model, \n",
    "    example_inputs, \n",
    "    global_pruning=False, # If False, a uniform sparsity will be assigned to different layers.\n",
    "    importance=imp, # importance criterion for parameter selection\n",
    "    iterative_steps=iterative_steps, # the number of iterations to achieve target sparsity\n",
    "    ch_sparsity=0.5, # remove 50% channels, ResNet18 = {64, 128, 256, 512} => ResNet18_Half = {32, 64, 128, 256}\n",
    "    ignored_layers=ignored_layers,\n",
    ")"
   ]
  },
  {
   "attachments": {},
   "cell_type": "markdown",
   "id": "d6a4b5b2",
   "metadata": {},
   "source": [
    "使用“pruner.regularize”进行稀疏训练。记得在“optimizer.step()”之前对模型进行正则化。"
   ]
  },
  {
   "cell_type": "code",
   "execution_count": 8,
   "id": "9fb7344a",
   "metadata": {},
   "outputs": [],
   "source": [
    "# Training\n",
    "for _ in range(100):\n",
    "    pass\n",
    "    # optimizer.zero_grad()\n",
    "    # ...\n",
    "    # pruner.regularize(model, reg=1e-5)\n",
    "    # loss.backward()\n",
    "    # optimizer.step()"
   ]
  },
  {
   "cell_type": "markdown",
   "id": "dc447ab6",
   "metadata": {},
   "source": [
    "Pruning and finetuning"
   ]
  },
  {
   "cell_type": "code",
   "execution_count": 10,
   "id": "ab5ee265",
   "metadata": {},
   "outputs": [
    {
     "name": "stdout",
     "output_type": "stream",
     "text": [
      "torch.Size([1, 1000])\n",
      "  Iter 1/5, Params: 3.06 M => 3.06 M\n",
      "  Iter 1/5, MACs: 0.49 G => 0.49 G\n",
      "================\n",
      "torch.Size([1, 1000])\n",
      "  Iter 2/5, Params: 3.06 M => 3.06 M\n",
      "  Iter 2/5, MACs: 0.49 G => 0.49 G\n",
      "================\n",
      "torch.Size([1, 1000])\n",
      "  Iter 3/5, Params: 3.06 M => 3.06 M\n",
      "  Iter 3/5, MACs: 0.49 G => 0.49 G\n",
      "================\n",
      "torch.Size([1, 1000])\n",
      "  Iter 4/5, Params: 3.06 M => 3.06 M\n",
      "  Iter 4/5, MACs: 0.49 G => 0.49 G\n",
      "================\n",
      "torch.Size([1, 1000])\n",
      "  Iter 5/5, Params: 3.06 M => 3.06 M\n",
      "  Iter 5/5, MACs: 0.49 G => 0.49 G\n",
      "================\n"
     ]
    }
   ],
   "source": [
    "base_macs, base_nparams = tp.utils.count_ops_and_params(model, example_inputs)\n",
    "for i in range(iterative_steps):\n",
    "    pruner.step()\n",
    "\n",
    "    macs, nparams = tp.utils.count_ops_and_params(model, example_inputs)\n",
    "    # print(model)\n",
    "    print(model(example_inputs).shape)\n",
    "    print(\n",
    "        \"  Iter %d/%d, Params: %.2f M => %.2f M\"\n",
    "        % (i+1, iterative_steps, base_nparams / 1e6, nparams / 1e6)\n",
    "    )\n",
    "    print(\n",
    "        \"  Iter %d/%d, MACs: %.2f G => %.2f G\"\n",
    "        % (i+1, iterative_steps, base_macs / 1e9, macs / 1e9)\n",
    "    )\n",
    "    print(\"=\"*16)\n",
    "    # finetune your model here\n",
    "    # finetune(model)\n",
    "    # ..."
   ]
  }
 ],
 "metadata": {
  "kernelspec": {
   "display_name": "Python 3 (ipykernel)",
   "language": "python",
   "name": "python3"
  },
  "language_info": {
   "codemirror_mode": {
    "name": "ipython",
    "version": 3
   },
   "file_extension": ".py",
   "mimetype": "text/x-python",
   "name": "python",
   "nbconvert_exporter": "python",
   "pygments_lexer": "ipython3",
   "version": "3.8.13"
  }
 },
 "nbformat": 4,
 "nbformat_minor": 5
}
